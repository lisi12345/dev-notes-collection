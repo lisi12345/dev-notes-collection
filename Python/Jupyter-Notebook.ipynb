{
 "cells": [
  {
   "cell_type": "markdown",
   "metadata": {},
   "source": [
    "# Start to use Jupyter Notebook\n",
    "If you want to run below:"
   ]
  },
  {
   "cell_type": "code",
   "execution_count": null,
   "metadata": {
    "vscode": {
     "languageId": "plaintext"
    }
   },
   "outputs": [],
   "source": [
    "%matplotlib widget\n",
    "from pyvista import set_plot_theme\n",
    "set_plot_theme('document')\n",
    "pv.set_jupyter_backend('pythreejs')"
   ]
  },
  {
   "cell_type": "markdown",
   "metadata": {},
   "source": [
    "You need to execute below commands in terminal, **Not Python interactive cell**:"
   ]
  },
  {
   "cell_type": "code",
   "execution_count": null,
   "metadata": {
    "vscode": {
     "languageId": "plaintext"
    }
   },
   "outputs": [],
   "source": [
    "pip install ipympl\n",
    "conda install nodejs\n",
    "pip install --upgrade jupyterlab\n",
    "pip install pythreejs\n",
    "jupyter lab build "
   ]
  },
  {
   "cell_type": "markdown",
   "metadata": {},
   "source": [
    "if above failed and error said something like \"\", (https://stackoverflow.com/questions/62849352/conda-not-recognizing-that-i-have-node-installed/) then try to execute below:"
   ]
  },
  {
   "cell_type": "code",
   "execution_count": null,
   "metadata": {
    "vscode": {
     "languageId": "plaintext"
    }
   },
   "outputs": [],
   "source": [
    "conda install -c conda-forge pythreejs\n",
    "conda install -c conda-forge/label/gcc7 nodejs\n",
    "jupyter lab build "
   ]
  }
 ],
 "metadata": {
  "language_info": {
   "name": "python"
  }
 },
 "nbformat": 4,
 "nbformat_minor": 2
}
