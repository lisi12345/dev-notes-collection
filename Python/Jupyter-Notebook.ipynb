{
 "cells": [
  {
   "cell_type": "markdown",
   "metadata": {},
   "source": [
    "# Start to use Jupyter Notebook\n",
    "If you want to run below:"
   ]
  },
  {
   "cell_type": "code",
   "execution_count": null,
   "metadata": {
    "vscode": {
     "languageId": "plaintext"
    }
   },
   "outputs": [],
   "source": [
    "%matplotlib widget\n",
    "from pyvista import set_plot_theme\n",
    "set_plot_theme('document')\n",
    "pv.set_jupyter_backend('pythreejs')"
   ]
  },
  {
   "cell_type": "markdown",
   "metadata": {},
   "source": [
    "You need to execute below commands in terminal, **Not Python interactive cell**:"
   ]
  },
  {
   "cell_type": "code",
   "execution_count": null,
   "metadata": {
    "vscode": {
     "languageId": "plaintext"
    }
   },
   "outputs": [],
   "source": [
    "pip install ipympl\n",
    "conda install nodejs\n",
    "pip install --upgrade jupyterlab\n",
    "pip install pythreejs\n",
    "jupyter lab build "
   ]
  },
  {
   "cell_type": "markdown",
   "metadata": {},
   "source": [
    "if above failed and error said something like \"UserWarning: ValueError: Please install nodejs >=20.0.0 before continuing. nodejs may be installed using conda or directly from the nodejs website.\", (https://stackoverflow.com/questions/62849352/conda-not-recognizing-that-i-have-node-installed/, https://github.com/jupyter-widgets/pythreejs?tab=readme-ov-file) then try to execute below:"
   ]
  },
  {
   "cell_type": "code",
   "execution_count": null,
   "metadata": {
    "vscode": {
     "languageId": "plaintext"
    }
   },
   "outputs": [],
   "source": [
    "conda install -c conda-forge pythreejs\n",
    "conda install -c conda-forge/label/gcc7 nodejs\n",
    "jupyter lab build "
   ]
  },
  {
   "cell_type": "markdown",
   "metadata": {},
   "source": [
    "Turns out pv.set_jupyter_backend does NOT support \"pythreejs\", change it to trame.Error I got: \"Invalid Jupyter notebook plotting backend \"pythreejs\".\n",
    "Use one of the following:\n",
    "\"static\", \"client\", \"server\", \"trame\", \"html\", \"none\"\""
   ]
  },
  {
   "cell_type": "code",
   "execution_count": null,
   "metadata": {
    "vscode": {
     "languageId": "plaintext"
    }
   },
   "outputs": [],
   "source": [
    "conda install -c conda-forge trame\n",
    "conda install -c conda-forge ipywidgets\n",
    "pip install \"pyvista[jupyter]\"\n",
    "\n",
    "# not sure which line(s) resolved issues -_-"
   ]
  },
  {
   "cell_type": "markdown",
   "metadata": {},
   "source": [
    "# Check versions"
   ]
  },
  {
   "cell_type": "code",
   "execution_count": null,
   "metadata": {
    "vscode": {
     "languageId": "plaintext"
    }
   },
   "outputs": [],
   "source": [
    "jupyter --version\n",
    "# OR\n",
    "conda list python"
   ]
  }
 ],
 "metadata": {
  "language_info": {
   "name": "python"
  }
 },
 "nbformat": 4,
 "nbformat_minor": 2
}
